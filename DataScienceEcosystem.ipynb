{
 "cells": [
  {
   "cell_type": "markdown",
   "id": "ef24a3f3-caa3-43df-b08e-02cd60238b67",
   "metadata": {},
   "source": [
    "# H1: Data Science Tools and Ecosystem "
   ]
  },
  {
   "cell_type": "markdown",
   "id": "0e4eb7df-9957-42f0-94f3-b3da7c7b24a1",
   "metadata": {
    "tags": []
   },
   "source": [
    "## In this notebook, Data Science Tools and Ecosystem are summarized "
   ]
  },
  {
   "cell_type": "markdown",
   "id": "6c49fda8-dbc7-40a9-b6fd-31fffffa3902",
   "metadata": {},
   "source": [
    "## **Objectives**\n",
    "* Popular Languages that Data Scientists use\n",
    "* Commonly used libraries used by Data Scientists \n",
    "* Data Science Tools\n",
    "* Evaluating arithmetic expression in Python "
   ]
  },
  {
   "cell_type": "markdown",
   "id": "bcb05fb6-009a-47db-befc-946596dde267",
   "metadata": {},
   "source": [
    "#### Some of the popular languages that Data Scientists use are :\n",
    "1. Python\n",
    "2. Julia\n",
    "3. R\n",
    "4. Scala\n",
    "5 "
   ]
  },
  {
   "cell_type": "markdown",
   "id": "e1814c1e-6619-44f1-9a69-47d108541138",
   "metadata": {
    "tags": []
   },
   "source": [
    "#### Some of the commonly used libraries used by Data Scientists include :\n",
    "1. Python libraries\n",
    "2. Visualization libraries\n",
    "3. Machine learning libraries\n",
    "4. Deep learning libraries"
   ]
  },
  {
   "cell_type": "markdown",
   "id": "b7bca8d6-1a19-4dab-84bf-f52b9a07352c",
   "metadata": {},
   "source": [
    "|Data Science Tools|\n",
    "|------------------|\n",
    "|JupyterLab|\n",
    "|RStudio|\n",
    "|Anaconda|\n",
    "|Visual Studio Code|"
   ]
  },
  {
   "cell_type": "markdown",
   "id": "7ed8ad13-552e-4f0e-b9b2-340013119716",
   "metadata": {
    "tags": []
   },
   "source": [
    "### H3: Below are a few examples of evaluating arithmetic expressions in Python"
   ]
  },
  {
   "cell_type": "markdown",
   "id": "18208d0c-bd6f-47a2-8bfd-3eb953efb90b",
   "metadata": {},
   "source": [
    "#### This is simple arithmetic expression to multiply then add integers,"
   ]
  },
  {
   "cell_type": "code",
   "execution_count": 3,
   "id": "ba8152d5-3c24-4839-b8d6-5f3f59160adb",
   "metadata": {
    "tags": []
   },
   "outputs": [
    {
     "data": {
      "text/plain": [
       "17"
      ]
     },
     "execution_count": 3,
     "metadata": {},
     "output_type": "execute_result"
    }
   ],
   "source": [
    "(3*4)+5"
   ]
  },
  {
   "cell_type": "markdown",
   "id": "7cd10a02-e050-456c-a529-4cfb58e168d8",
   "metadata": {},
   "source": [
    "#### This will convert 200 minutes to hours by dividing by 60"
   ]
  },
  {
   "cell_type": "code",
   "execution_count": 5,
   "id": "e242687e-2204-4117-af1f-320de49c8473",
   "metadata": {
    "tags": []
   },
   "outputs": [
    {
     "data": {
      "text/plain": [
       "3.3333333333333335"
      ]
     },
     "execution_count": 5,
     "metadata": {},
     "output_type": "execute_result"
    }
   ],
   "source": [
    "200/60"
   ]
  },
  {
   "cell_type": "markdown",
   "id": "cdfc4b60-cb63-4ddf-9421-2b9b2b0c9b56",
   "metadata": {},
   "source": [
    "## Author "
   ]
  },
  {
   "cell_type": "code",
   "execution_count": null,
   "id": "1c050ba3-9aca-49b0-8d7f-7fc1e404c4ef",
   "metadata": {
    "tags": []
   },
   "outputs": [],
   "source": [
    "S.Vaishali"
   ]
  },
  {
   "cell_type": "code",
   "execution_count": null,
   "id": "db80056c-05de-4cbb-9ac1-4d87161870bd",
   "metadata": {},
   "outputs": [],
   "source": []
  }
 ],
 "metadata": {
  "kernelspec": {
   "display_name": "Python",
   "language": "python",
   "name": "conda-env-python-py"
  },
  "language_info": {
   "codemirror_mode": {
    "name": "ipython",
    "version": 3
   },
   "file_extension": ".py",
   "mimetype": "text/x-python",
   "name": "python",
   "nbconvert_exporter": "python",
   "pygments_lexer": "ipython3",
   "version": "3.7.12"
  }
 },
 "nbformat": 4,
 "nbformat_minor": 5
}
